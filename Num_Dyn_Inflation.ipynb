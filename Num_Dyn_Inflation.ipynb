{
  "cells": [
    {
      "cell_type": "markdown",
      "id": "be276ec1-b93a-4901-9d87-c278fccc1abd",
      "metadata": {
        "id": "be276ec1-b93a-4901-9d87-c278fccc1abd"
      },
      "source": [
        "# Numerical Simulation of Inflationary Dynamics"
      ]
    },
    {
      "cell_type": "markdown",
      "id": "d81950fa-c8c7-4afe-8c98-78f771c045ed",
      "metadata": {
        "id": "d81950fa-c8c7-4afe-8c98-78f771c045ed"
      },
      "source": [
        "This notebook is intended to demonstrate the procedure of using our [code](https://github.com/bhattsiddharth/NumDynInflation) to compute the dynamics during inflation in the early universe. Please read our article [(arxiv:2212.00529)](https://arxiv.org/abs/2212.00529) for a detailed explaination of the code (to familiarise with the notations before proceeding)."
      ]
    },
    {
      "cell_type": "markdown",
      "id": "a44dc569-4cf8-4612-bfed-1d437483f893",
      "metadata": {
        "id": "a44dc569-4cf8-4612-bfed-1d437483f893"
      },
      "source": [
        "# Background Dynamics\n",
        "The first section of this notebook is dedicated to the background dynamics of inflation, which are governed by the following equations:\n",
        "\n",
        "$$ H^2 \\equiv \\frac{1}{3m_p^2} \\, \\rho_{\\phi} = \\frac{1}{3m_p^2} \\left[\\frac{1}{2}{\\dot\\phi}^2 +V(\\phi)\\right], $$\n",
        "$$ \\dot{H} \\equiv \\frac{\\ddot{a}}{a}-H^2 = -\\frac{1}{2m_p^2}\\, \\dot{\\phi}^2, $$\n",
        "$$ {\\ddot \\phi}+ 3\\, H {\\dot \\phi} + V_{,\\phi}(\\phi) = 0. $$"
      ]
    },
    {
      "cell_type": "markdown",
      "id": "c6696e35-6386-4fb2-b100-022fc652a5a8",
      "metadata": {
        "id": "c6696e35-6386-4fb2-b100-022fc652a5a8"
      },
      "source": [
        "## Prerequisites\n",
        "Before proceeding, ensure that all the required packages are installed and imported (as they are needed for the mathematical operations, and for formatting and plotting results):"
      ]
    },
    {
      "cell_type": "code",
      "execution_count": 1,
      "id": "875c617b-d0be-4f85-837d-b9ad97672ab7",
      "metadata": {
        "id": "875c617b-d0be-4f85-837d-b9ad97672ab7"
      },
      "outputs": [],
      "source": [
        "import numpy as np\n",
        "from scipy.integrate import odeint\n",
        "import matplotlib.pyplot as plt\n",
        "import matplotlib.patches as pch\n",
        "from matplotlib import rcParams\n",
        "from matplotlib import rc\n",
        "from matplotlib.ticker import AutoMinorLocator"
      ]
    },
    {
      "cell_type": "markdown",
      "id": "ccdda823-b0d4-444e-b14c-0a69c59c3b67",
      "metadata": {
        "id": "ccdda823-b0d4-444e-b14c-0a69c59c3b67"
      },
      "source": [
        "## Defining the model\n",
        "We begin by defining the model of inflation (as considered by the reader). This involves defining the potential of the inflaton $V(\\phi)$, its derivatives and any other required constants/quantities. For example, we consider the simple case of the inflaton with a quadratic potential. Note that we have converted all the physical quantities to its dimensionless equivalents (see [arxiv:2212.00529](https://arxiv.org/abs/2212.00529) for details). Briefly, we describe the conversions below:\n",
        "\n",
        "$$ T = \\left( t \\, m_p \\right) \\, S~, \\quad  x = \\frac{\\phi}{m_p}~, \\quad y =  \\left( \\frac{\\dot{\\phi}}{m_p^{2}} \\right) \\, \\frac{1}{S}~,$$\n",
        "$$ z = \\left( \\frac{H}{ m_p} \\right) \\, \\frac{1}{S}~, \\quad A = \\left( a \\, m_p \\right) \\, S,$$\n",
        "\n",
        "where $S$ is a factor used to re-scale the time-variable to ease the numerical computation. The factor may be suitably chosen according to the energy scale of the dynamics."
      ]
    },
    {
      "cell_type": "code",
      "execution_count": 25,
      "id": "0e81f533-3ff7-42f8-8cd8-be56fe7fe5f3",
      "metadata": {
        "id": "0e81f533-3ff7-42f8-8cd8-be56fe7fe5f3"
      },
      "outputs": [],
      "source": [
        "# This term defines one unit of time [ T = t * m_p * S ] where t is the actual cosmic time\n",
        "S = 5e-5\n",
        "\n",
        "# parameters used in the potential function\n",
        "M = 5.9e-6\n",
        "v0 = 0.5*M**2\n",
        "\n",
        "# dimensionless potential function and its derivatives\n",
        "def f(x):\n",
        "    return x**2\n",
        "\n",
        "def dfdx(x):\n",
        "    return 2*x\n",
        "\n",
        "def d2fdx2(x):\n",
        "    return 2"
      ]
    },
    {
      "cell_type": "markdown",
      "id": "6c87397f-c39e-47a8-960a-01dae1f76426",
      "metadata": {
        "id": "6c87397f-c39e-47a8-960a-01dae1f76426"
      },
      "source": [
        "## Defining the system\n",
        "In terms of these dimensionaless variables, the dynamical equations take the form:\n",
        "\n",
        "$$ \\frac{{\\rm d}x}{{\\rm d}T} = y ,$$\n",
        "$$ \\frac{{\\rm d}y}{{\\rm d}T} = -3 \\, z \\, y - \\frac{v_0}{S^{2}} \\,  f_{,x}(x),$$\n",
        "$$ \\frac{{\\rm d}z}{{\\rm d}T} = - \\frac{1}{2} \\, y^2 ,$$\n",
        "$$ \\frac{{\\rm d}A}{{\\rm d}T} = A \\, z .$$\n",
        "\n",
        "To solve this system as an initial value problem, we provide initial conditions to our dimensionless quantities. It should be noted that the dynamics are, in general, highly sensitive to initial conditions (please refer to [arxiv:2212.00529](https://arxiv.org/abs/2212.00529) for details)."
      ]
    },
    {
      "cell_type": "code",
      "execution_count": 26,
      "id": "fded6407-31d9-4e00-a3ac-5e530eb120ad",
      "metadata": {
        "id": "fded6407-31d9-4e00-a3ac-5e530eb120ad"
      },
      "outputs": [],
      "source": [
        "xi = 17.5\n",
        "yi = 0\n",
        "zi = np.sqrt(yi**2/6 + (v0*f(xi)/(3*S**2)))\n",
        "Ai = 1e-3"
      ]
    },
    {
      "cell_type": "markdown",
      "id": "8ce4c91f-d033-4c5a-96a2-29abd81e0cf6",
      "metadata": {
        "id": "8ce4c91f-d033-4c5a-96a2-29abd81e0cf6"
      },
      "source": [
        "We then define our system of equations and solve them using the *odeint* function from the [SciPy](https://docs.scipy.org/doc/scipy/) library."
      ]
    },
    {
      "cell_type": "code",
      "execution_count": 27,
      "id": "b22c8da8-d55d-4b30-91d3-f15b1d7ecd58",
      "metadata": {
        "id": "b22c8da8-d55d-4b30-91d3-f15b1d7ecd58"
      },
      "outputs": [],
      "source": [
        "def sys(var, T):\n",
        "    [x, y, z, A] = var\n",
        "    dxdT = y\n",
        "    dydT = -3*z*y - v0*dfdx(x)/S**2\n",
        "    dzdT = -0.5*y**2\n",
        "    dAdT = A*z\n",
        "    return [dxdT, dydT, dzdT, dAdT]\n",
        "\n",
        "# the period of time over which the system is integrated\n",
        "T = np.linspace(0, 1000, 100000)\n",
        "\n",
        "sol = odeint(sys, [xi,yi,zi,Ai], T, rtol=3e-14, atol=2e-35, mxstep=900000000)\n",
        "x, y, z, A = np.transpose(sol)\n",
        "phi, phi_t, H = x, y*S, z*S #converting back to dimensional quantities"
      ]
    },
    {
      "cell_type": "markdown",
      "id": "a3ceb856-d354-4a0d-a359-75b5ecc948af",
      "metadata": {
        "id": "a3ceb856-d354-4a0d-a359-75b5ecc948af"
      },
      "source": [
        "## Defining useful parameters\n",
        "Finally, after solving the system of equations, we can define derived quantities which are important to the system being considered. These are:\n",
        "\n",
        "- The number of e-folds before the end of inflation: $N_e  = \\log_e{\\dfrac{a_{\\rm end}}{a(t)}}=\\int_{t}^{t_{\\rm end}} H(t') dt'$\n",
        "- The slow-roll parameters: $\\epsilon_H = -\\dfrac{\\dot{H}}{H^2}=\\dfrac{1}{2m_p^2}\\dfrac{\\dot{\\phi}^2}{H^2}~,~~\\eta_H = -\\dfrac{\\ddot{\\phi}}{H\\dot{\\phi}}=\\epsilon_H  - \\dfrac{1}{2\\epsilon_H} \\, \\dfrac{d\\epsilon_H}{dN_e}$\n",
        "- The power spectra of scalar and tensor fluctuations: $P_{\\zeta} = \\dfrac{1}{8\\pi^2}\\left(\\dfrac{H}{m_p}\\right)^2\\dfrac{1}{\\epsilon_H}~,~~P_T(k)  = \\dfrac{2}{\\pi^2} \\left( \\dfrac{H}{m_p} \\right)^2$\n",
        "- The scalar spectral tilt: $n_s = 1 + 2\\eta_H - 4\\epsilon_H~$ and the tensor-to-scalar ratio: $r = 16\\epsilon_H$\n",
        "\n",
        "We write these in terms of our dimensionless quantities as (in code):"
      ]
    },
    {
      "cell_type": "code",
      "execution_count": 28,
      "id": "9f94f737-68be-48e3-8808-9f46bfc304c6",
      "metadata": {
        "colab": {
          "base_uri": "https://localhost:8080/"
        },
        "id": "9f94f737-68be-48e3-8808-9f46bfc304c6",
        "outputId": "ecc853c5-7f3f-4c62-b328-a97b7bbc3f97"
      },
      "outputs": [
        {
          "name": "stderr",
          "output_type": "stream",
          "text": [
            "C:\\Users\\moham\\AppData\\Local\\Temp\\ipykernel_15588\\1330100238.py:6: RuntimeWarning: divide by zero encountered in divide\n",
            "  etaH = -(-3*z*y - v0*dfdx(x)/S**2)/(y*z) # gives the rate of change of epsH\n",
            "C:\\Users\\moham\\AppData\\Local\\Temp\\ipykernel_15588\\1330100238.py:10: RuntimeWarning: divide by zero encountered in divide\n",
            "  Ps = (S*z)**2 / (8 * np.pi**2 * epsH)\n"
          ]
        }
      ],
      "source": [
        "N = np.log(A/Ai) # number of e-folds of expansion elapsed\n",
        "Nt = 77.4859 # number of e-folds elapsed when inflation ends\n",
        "Ne = Nt - N\n",
        "\n",
        "epsH = -(-z**2 + ((v0*f(x)/S**2 - y**2))/3)/z**2 # indicates whether the system is in a state of inflation\n",
        "etaH = -(-3*z*y - v0*dfdx(x)/S**2)/(y*z) # gives the rate of change of epsH\n",
        "\n",
        "ns = 1 + 2*etaH - 4*epsH #\n",
        "r = 16*epsH\n",
        "Ps = (S*z)**2 / (8 * np.pi**2 * epsH)\n",
        "Pt = 2*(S*z)**2 / (np.pi**2)"
      ]
    },
    {
      "cell_type": "markdown",
      "id": "aa4bb311-d1f5-4138-82a0-217c34df4593",
      "metadata": {
        "id": "aa4bb311-d1f5-4138-82a0-217c34df4593"
      },
      "source": [
        "## Plotting results\n",
        "Having done the necessary calculations, we can plot the evolution of various quantities (including those mentioned earlier) and analyse their behaviour. To ensure that the output observed is valid, we constrian certain aspects of the background dynamics with observational data. They are as follows:"
      ]
    },
    {
      "cell_type": "markdown",
      "id": "ed83a561-ee11-4ecc-a6b2-4c93676c1f87",
      "metadata": {
        "id": "ed83a561-ee11-4ecc-a6b2-4c93676c1f87"
      },
      "source": [
        "### 1. Check if inflation is occuring:\n",
        "When the universe inflates, the number of e-folds ($N$) should increase rapidly with time; whose growth slows down substantially after the end of inflation."
      ]
    },
    {
      "cell_type": "code",
      "execution_count": 29,
      "id": "45698b96-ec6f-4eb7-a053-ea0d495f3bc3",
      "metadata": {
        "colab": {
          "base_uri": "https://localhost:8080/",
          "height": 449
        },
        "id": "45698b96-ec6f-4eb7-a053-ea0d495f3bc3",
        "outputId": "8623b744-65a4-4ec4-db56-47a08e3e606d"
      },
      "outputs": [
        {
          "data": {
            "image/png": "[encoded data removed]",
            "text/plain": [
              "<Figure size 640x480 with 1 Axes>"
            ]
          },
          "metadata": {},
          "output_type": "display_data"
        }
      ],
      "source": [
        "plt.plot(T,N,'g', lw=2)\n",
        "plt.xlabel('T')\n",
        "plt.ylabel('N')\n",
        "plt.show()"
      ]
    },
    {
      "cell_type": "markdown",
      "id": "c126d27d-81a7-4988-b7f2-3fdbca0bee80",
      "metadata": {
        "id": "c126d27d-81a7-4988-b7f2-3fdbca0bee80"
      },
      "source": [
        "We can observe from the plot that the universe was inflating till about T=200."
      ]
    },
    {
      "cell_type": "markdown",
      "id": "5aef5529-3f3d-4929-847e-40ef0107f418",
      "metadata": {
        "id": "5aef5529-3f3d-4929-847e-40ef0107f418"
      },
      "source": [
        "### 2. Check if inflation is adequate:\n",
        "\n",
        "The universe experiences inflation when $\\epsilon_H < 1$. As a result, the point at which its value passes 1 for the first time marks the end of inflation. The number of e-folds achieved during inflation can be obtained from here."
      ]
    },
    {
      "cell_type": "code",
      "execution_count": 30,
      "id": "21762055-0070-4b03-a03d-9b25f99a9b5a",
      "metadata": {
        "colab": {
          "base_uri": "https://localhost:8080/",
          "height": 449
        },
        "id": "21762055-0070-4b03-a03d-9b25f99a9b5a",
        "outputId": "2a4f0d66-1119-42c7-ba03-66d160487240"
      },
      "outputs": [
        {
          "data": {
            "image/png": "[encoded data removed]",
            "text/plain": [
              "<Figure size 640x480 with 1 Axes>"
            ]
          },
          "metadata": {},
          "output_type": "display_data"
        }
      ],
      "source": [
        "plt.plot(N,epsH, 'g', lw=2)\n",
        "plt.axhline(1, color='black')\n",
        "plt.xlabel('N (e-folds)')\n",
        "plt.ylabel(r'$\\epsilon_H$')\n",
        "plt.show()"
      ]
    },
    {
      "cell_type": "markdown",
      "id": "e4776e8e-b06f-42d3-9f90-ee4662f9f625",
      "metadata": {
        "id": "e4776e8e-b06f-42d3-9f90-ee4662f9f625"
      },
      "source": [
        "Here, the universe undergoes about 77 e-folds of accelerated expansion."
      ]
    },
    {
      "cell_type": "markdown",
      "id": "b03c4ff7-c80f-438f-b664-f5637d805c17",
      "metadata": {
        "id": "b03c4ff7-c80f-438f-b664-f5637d805c17"
      },
      "source": [
        "### 3. Matching the amplitude of power spectrum\n",
        "\n",
        "We need to ensure that the value of the power spectrum around the CMB pivot scale, as obtained from our computation, matches with the observed value from the latest CMB data [(PLANCK 2018)](https://arxiv.org/abs/1807.06211). Adjust the value of $v_0$ in the code such that $P_s$ at $N_e=60$ should be approximately $2.1\\times10^{-9}$."
      ]
    },
    {
      "cell_type": "code",
      "execution_count": 31,
      "id": "e2ee99dd-9f56-4679-99d2-231484f5ff56",
      "metadata": {
        "colab": {
          "base_uri": "https://localhost:8080/",
          "height": 452
        },
        "id": "e2ee99dd-9f56-4679-99d2-231484f5ff56",
        "outputId": "0efcd1d9-41fe-4204-b4a1-fffccbcd0cd9"
      },
      "outputs": [
        {
          "data": {
            "image/png": "[encoded data removed]",
            "text/plain": [
              "<Figure size 640x480 with 1 Axes>"
            ]
          },
          "metadata": {},
          "output_type": "display_data"
        }
      ],
      "source": [
        "plt.plot(Ne,Ps, 'g', lw=2)\n",
        "plt.axvline(60, color='black')\n",
        "plt.yscale('log')\n",
        "plt.xlim(0,70)\n",
        "#plt.ylim(2e-9,2.4e-9)\n",
        "plt.xlabel(r'$N_e$')\n",
        "plt.ylabel(r'$P_s$')\n",
        "plt.show()"
      ]
    },
    {
      "cell_type": "markdown",
      "id": "6a8ad55c-8775-432c-9708-24316b4c369e",
      "metadata": {
        "id": "6a8ad55c-8775-432c-9708-24316b4c369e"
      },
      "source": [
        "# First-order perturbations\n",
        "As discussed elaborately in our [article](https://arxiv.org/abs/2212.00529), The  Fourier modes $v_k$ and $h_k$ (for scalar modes and tensor modes respectively) of the field satisfy the  Mukhanov-Sasaki equations which, in terms of cosmic time $t$, take the form:\n",
        "$$ \\ddot{v_k} +  H \\dot{v_k} + \\left[ \\frac{k^2}{a^2} - \\frac{1}{a^2} \\frac{z''}{z} \\right] v_k = 0 $$\n",
        "$$ \\ddot{h_k} +  H \\dot{h_k} + \\left[ \\frac{k^2}{a^2} - \\frac{1}{a^2} \\frac{a''}{a} \\right] v_k = 0 $$\n",
        "As is evident from the expressions, the Fourier modes are characterised by the wavenumber $k$. In order to compute the evolution of a particular mode, we must know the time at which it becomes super-Hubble."
      ]
    },
    {
      "cell_type": "markdown",
      "id": "hS164JUAjUh1",
      "metadata": {
        "id": "hS164JUAjUh1"
      },
      "source": [
        "## Horizon exit of modes\n",
        "Quantum fluctuations during inflation are generated in the sub-Hubble regime and as the Hubble radius shrinks, the comoving wavelengths of different modes become equal to the Hubble radius (i.e., $k=aH$). This is known as Hubble exit. We can determine the Hubble exit time for different modes by plotting the following:"
      ]
    },
    {
      "cell_type": "code",
      "execution_count": 32,
      "id": "51d91351-aeae-4c21-a8c2-340b0c002fa4",
      "metadata": {
        "colab": {
          "base_uri": "https://localhost:8080/",
          "height": 452
        },
        "id": "51d91351-aeae-4c21-a8c2-340b0c002fa4",
        "outputId": "0e45b315-01e9-429b-9976-6c9c743f9a29"
      },
      "outputs": [
        {
          "data": {
            "image/png": "[encoded data removed]",
            "text/plain": [
              "<Figure size 640x480 with 1 Axes>"
            ]
          },
          "metadata": {},
          "output_type": "display_data"
        }
      ],
      "source": [
        "aH = A*z # rate of change of scale factor\n",
        "\n",
        "plt.plot(Ne, aH, 'g', lw=2)\n",
        "plt.xlabel(r'$N_e$')\n",
        "plt.ylabel(r'$aH$')\n",
        "plt.yscale('log')\n",
        "plt.show()"
      ]
    },
    {
      "cell_type": "markdown",
      "id": "_YZlfj2LbevO",
      "metadata": {
        "id": "_YZlfj2LbevO"
      },
      "source": [
        "For example, the mode that leaves the horizon at about 60 e-folds before the end of inflation corresponds to a wavenumber of about $10^5$. We call this the CMB pivot scale and fix its value as $0.05\\,\\mathrm{MPc}^{-1}$ from observations. We can then determine the wavelengths of all the modes corresponding to their horizon exit.\n",
        "\n",
        "We can read exact values by defining an index function that returns the location of a certain value of a quantity in its evolution array and then use it to determine the wavelength of any mode by specifying its horizon exit in terms of number of e-folds before the end of inflation."
      ]
    },
    {
      "cell_type": "code",
      "execution_count": 33,
      "id": "1s714klJr5ZH",
      "metadata": {
        "id": "1s714klJr5ZH"
      },
      "outputs": [],
      "source": [
        "def i(ne):\n",
        "    return np.max(np.where(Ne>=ne))\n",
        "\n",
        "Nk = 60\n",
        "k = aH[i(Nk)]\n",
        "kp = aH[i(60)] #pivot scale"
      ]
    },
    {
      "cell_type": "markdown",
      "id": "grIp1VbXmg1D",
      "metadata": {
        "id": "grIp1VbXmg1D"
      },
      "source": [
        "## System of equations including fluctuations\n",
        "\n",
        "We can write the Mukhanov-Sasaki equations in terms of our dimensionless variables as:\n",
        "$$\n",
        "v_{k,T} = \\frac{{\\rm d}v_k}{{\\rm d}T}\n",
        "$$\n",
        "$$\n",
        "\\frac{{\\rm d}v_{k,T}}{{\\rm d}T} = - z \\, v_{k,T} - \\left[ \\frac{k^2}{A^2} - \\frac{5}{2} \\, y^2 + 2 \\, \\frac{y}{z} \\left(3 \\, z \\, y + \\frac{v_0}{S^{2}} \\, f_{,x} \\right) - 2 \\, z^2 - \\frac{1}{2} \\, \\frac{y^4}{z^2} + \\frac{v_0}{S^2} \\, f_{,xx} \\right]v_k\n",
        "$$\n",
        "$$\n",
        "h_{k,T} = \\frac{{\\rm d}h_k}{{\\rm d}T}\n",
        "$$\n",
        "$$\n",
        "\\frac{{\\rm d}h_{k,T}}{{\\rm d}T} = -  z \\, h_{k,T} - \\left(  \\frac{k^2}{A^2} + \\frac{1}{2} \\, y^2 - 2 \\, z^2  \\right) \\, h_k\n",
        "$$"
      ]
    },
    {
      "cell_type": "markdown",
      "id": "I-80zVPVvtfm",
      "metadata": {
        "id": "I-80zVPVvtfm"
      },
      "source": [
        "### Initial conditions\n",
        "In order to simulate the evolution of a perturbation mode around its horizon exit, we enter its initial conditions when it was considerably sub-Hubble. This corresponds to the Bunch-Davies vacuum:\n",
        "$$v_k = \\frac{1}{\\sqrt{2k}}e^{-ik\\tau}$$\n",
        "This is safely satisfied for every mode till about 5 e-folds before its horizon exit. Hence, we enter the values of the background quantities at this time as their initial conditions."
      ]
    },
    {
      "cell_type": "code",
      "execution_count": 34,
      "id": "gnlJ3wGUrpx1",
      "metadata": {
        "id": "gnlJ3wGUrpx1"
      },
      "outputs": [],
      "source": [
        "xi = x[i(Nk+5)]\n",
        "yi = y[i(Nk+5)]\n",
        "zi = np.sqrt(yi**2/6 + (v0*f(xi)/(3*S**2)))\n",
        "Ai = 1e-3 * np.exp(77.4859  - (Nk+5))\n",
        "\n",
        "# Initial conditions for the fluctuations (in Mukhanov-Sasaki variables) are given by the Bunch-Davies vacuum\n",
        "vi = (1/np.sqrt(2*k)) # real part of the field that describes scalar fluctuations\n",
        "ui = 0 # imaginary part of the field that describes scalar fluctuations\n",
        "v_Ti = 0\n",
        "u_Ti = -k*(1/np.sqrt(2*k))/Ai\n",
        "# Same applies for tensor fluctuations too\n",
        "hi = (1/np.sqrt(2*k)) # real part of the field that describes tensor fluctuations\n",
        "gi = 0 # imaginary part of the field that describes tensor fluctuations\n",
        "h_Ti = 0\n",
        "g_Ti = -k*(1/np.sqrt(2*k))/Ai"
      ]
    },
    {
      "cell_type": "markdown",
      "id": "1FLUE7-5uZGv",
      "metadata": {
        "id": "1FLUE7-5uZGv"
      },
      "source": [
        "### Redefining the system to be solved\n",
        "We can now define our system of equations including the equations of motion for perturbations."
      ]
    },
    {
      "cell_type": "code",
      "execution_count": 35,
      "id": "mzv-OKoGnMuj",
      "metadata": {
        "id": "mzv-OKoGnMuj"
      },
      "outputs": [],
      "source": [
        "def sys(var, T):\n",
        "    [x, y, z, A, v, v_T, u, u_T, h, h_T, g, g_T] = var\n",
        "\n",
        "    #background\n",
        "    dxdT = y\n",
        "    dydT = -3*z*y - v0*dfdx(x)/S**2\n",
        "    dzdT = -0.5*y**2\n",
        "    dAdT = A*z\n",
        "\n",
        "    # scalar fluctuations\n",
        "    dvdT = v_T\n",
        "    dv_TdT = -z*v_T + v*(2.5*y**2 + 2*y*(-3*z*y - v0*dfdx(x)/S**2 )/z + 2*z**2 + 0.5*y**4/z**2 - v0*d2fdx2(x)/S**2 - k**2/A**2)\n",
        "    dudT = u_T\n",
        "    du_TdT = -z*u_T + u*(2.5*y**2 + 2*y*(-3*z*y - v0*dfdx(x)/S**2 )/z + 2*z**2 + 0.5*y**4/z**2 - v0*d2fdx2(x)/S**2 - k**2/A**2)\n",
        "\n",
        "    # tensor fluctuations\n",
        "    dhdT = h_T\n",
        "    dh_TdT = -z*h_T - h*(k**2/A**2 - 2*z**2 + 0.5*y**2)\n",
        "    dgdT = g_T\n",
        "    dg_TdT = -z*g_T - g*(k**2/A**2 - 2*z**2 + 0.5*y**2)\n",
        "\n",
        "    return [dxdT, dydT, dzdT, dAdT, dvdT, dv_TdT, dudT, du_TdT, dhdT, dh_TdT, dgdT, dg_TdT]"
      ]
    },
    {
      "cell_type": "markdown",
      "id": "xGC0Sr-Gv8BN",
      "metadata": {
        "id": "xGC0Sr-Gv8BN"
      },
      "source": [
        "## Invoking the solver\n",
        "We simulate the evolution of the specified mode for just enough time such that it freezes after becoming super-Hubble. This is satisfied about 5 e-folds after horizon-exit for most modes."
      ]
    },
    {
      "cell_type": "code",
      "execution_count": 36,
      "id": "dplkdaDVwaDS",
      "metadata": {
        "colab": {
          "base_uri": "https://localhost:8080/",
          "height": 341
        },
        "id": "dplkdaDVwaDS",
        "outputId": "2d40c712-f12d-43a3-e427-9ab312102ee6"
      },
      "outputs": [],
      "source": [
        "# the period of time over which the system is integrated\n",
        "T = np.linspace(0, 200, 10000)\n",
        "\n",
        "sol = odeint(sys, [xi,yi,zi,Ai,vi,v_Ti,ui,u_Ti,hi,h_Ti,gi,g_Ti], T, rtol=3e-7, atol=2e-35, mxstep=900000000)\n",
        "x, y, z, A, v, v_T, u, u_T, h, h_T, g, g_T = np.transpose(sol)"
      ]
    },
    {
      "cell_type": "markdown",
      "id": "b8shj7pUwtF2",
      "metadata": {
        "id": "b8shj7pUwtF2"
      },
      "source": [
        "## Derived quantities\n",
        "It is useful to define a quantity ($aH/k$) that indicates whether the specified mode is in the sub-Hubble or super-Hubble regime, along with all the derived quantities as defined for background calculations."
      ]
    },
    {
      "cell_type": "code",
      "execution_count": 37,
      "id": "Ocm8fjCQxhKz",
      "metadata": {
        "id": "Ocm8fjCQxhKz"
      },
      "outputs": [],
      "source": [
        "aH = A*z\n",
        "aHk = aH/k\n",
        "meff = 2.5*y**2 + 2*y*(-3*z*y - v0*dfdx(x)/S**2 )/z + 2*z**2 + 0.5*y**4/z**2 - v0*d2fdx2(x)/S**2\n",
        "\n",
        "# slow-roll parameters\n",
        "epsH = -(-z**2 + ((v0*f(x)/S**2 - y**2))/3)/z**2\n",
        "etaH = -(-3*z*y - v0*dfdx(x)/S**2)/(y*z)\n",
        "\n",
        "# observable quantities (under slow-roll apparoximation)\n",
        "ns = 1 + 2*etaH - 4*epsH\n",
        "r = 16*epsH\n",
        "Ps = (S*z)**2 / (8 * np.pi**2 * epsH)\n",
        "Pt = 2*(S*z)**2 / (np.pi**2)\n",
        "\n",
        "# values of power spectra\n",
        "zeta2 = (v**2 + u**2)/(2*epsH*(A/S)**2) # scalar fluctuations\n",
        "P_S = (k**3 * zeta2)/(2*np.pi**2)\n",
        "h2 = (h**2 + g**2)/((A/S)**2) # tensor fluctuations\n",
        "P_T = 4*(k**3 * h2)/(np.pi**2)"
      ]
    },
    {
      "cell_type": "markdown",
      "id": "Rw_QJZ4axy_b",
      "metadata": {
        "id": "Rw_QJZ4axy_b"
      },
      "source": [
        "## Plotting\n",
        "We can plot the evolution of the specified mode around its horizon exit as:"
      ]
    },
    {
      "cell_type": "code",
      "execution_count": 39,
      "id": "EL4dFa-gx8CN",
      "metadata": {
        "id": "EL4dFa-gx8CN"
      },
      "outputs": [
        {
          "data": {
            "image/png": "[encoded data removed]",
            "text/plain": [
              "<Figure size 640x480 with 1 Axes>"
            ]
          },
          "metadata": {},
          "output_type": "display_data"
        }
      ],
      "source": [
        "plt.plot(aHk,P_S,'r', lw=2)\n",
        "plt.xscale('log')\n",
        "plt.yscale('log')\n",
        "plt.xlabel('aH/k')\n",
        "plt.ylabel('P_S')\n",
        "plt.xlim(1e-2, 1e4)\n",
        "plt.show()"
      ]
    }
  ],
  "metadata": {
    "colab": {
      "provenance": []
    },
    "kernelspec": {
      "display_name": "Python 3 (ipykernel)",
      "language": "python",
      "name": "python3"
    },
    "language_info": {
      "codemirror_mode": {
        "name": "ipython",
        "version": 3
      },
      "file_extension": ".py",
      "mimetype": "text/x-python",
      "name": "python",
      "nbconvert_exporter": "python",
      "pygments_lexer": "ipython3",
      "version": "3.8.18"
    }
  },
  "nbformat": 4,
  "nbformat_minor": 5
}
